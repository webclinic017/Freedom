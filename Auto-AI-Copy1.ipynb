{
 "cells": [
  {
   "cell_type": "code",
   "execution_count": 1,
   "metadata": {},
   "outputs": [],
   "source": [
    "import time\n",
    "import numpy as np\n",
    "import pandas as pd\n",
    "from datetime import datetime\n",
    "\n",
    "from datetime import datetime\n",
    "import fxcmpy\n",
    "from sklearn import svm\n",
    "import time"
   ]
  },
  {
   "cell_type": "code",
   "execution_count": 2,
   "metadata": {},
   "outputs": [],
   "source": [
    "con = fxcmpy.fxcmpy(config_file='fxcm.cfg')"
   ]
  },
  {
   "cell_type": "code",
   "execution_count": 3,
   "metadata": {},
   "outputs": [
    {
     "data": {
      "text/plain": [
       "'1.1.16'"
      ]
     },
     "execution_count": 3,
     "metadata": {},
     "output_type": "execute_result"
    }
   ],
   "source": [
    "fxcmpy.__version__"
   ]
  },
  {
   "cell_type": "code",
   "execution_count": 4,
   "metadata": {},
   "outputs": [],
   "source": [
    "to_show = ['tradeId', 'amountK','currency','grossPL','isBuy']"
   ]
  },
  {
   "cell_type": "code",
   "execution_count": 5,
   "metadata": {},
   "outputs": [],
   "source": [
    "lags = 3"
   ]
  },
  {
   "cell_type": "code",
   "execution_count": 6,
   "metadata": {},
   "outputs": [],
   "source": [
    "model = svm.SVC(C=100, probability=True)"
   ]
  },
  {
   "cell_type": "code",
   "execution_count": 7,
   "metadata": {},
   "outputs": [],
   "source": [
    "def generate_features(df, lags):\n",
    "    df['Returns'] = np.log(df['Mid'] /df['Mid'].shift(1))\n",
    "    print(df)\n",
    "    cols = []\n",
    "    for lag in range(1, lags +1):\n",
    "        col = 'lag_%s' % lag\n",
    "        print(\"col = \", col)\n",
    "        df[col] = np.sign(df['Returns'].shift(lag))\n",
    "        cols.append(col)\n",
    "    df.dropna(inplace=True)\n",
    "    return df, cols"
   ]
  },
  {
   "cell_type": "code",
   "execution_count": 8,
   "metadata": {},
   "outputs": [],
   "source": [
    "candles = con.get_candles('USD/JPY', period='m1', number=500)"
   ]
  },
  {
   "cell_type": "code",
   "execution_count": 9,
   "metadata": {},
   "outputs": [],
   "source": [
    "data = pd.DataFrame(candles[['askclose', 'bidclose']].mean(axis=1),\n",
    "                   columns=['Mid'])"
   ]
  },
  {
   "cell_type": "code",
   "execution_count": 10,
   "metadata": {},
   "outputs": [
    {
     "name": "stdout",
     "output_type": "stream",
     "text": [
      "                          Mid   Returns\n",
      "date                                   \n",
      "2019-05-02 17:42:00  111.4970       NaN\n",
      "2019-05-02 17:43:00  111.5025  0.000049\n",
      "2019-05-02 17:44:00  111.4970 -0.000049\n",
      "2019-05-02 17:45:00  111.4890 -0.000072\n",
      "2019-05-02 17:46:00  111.4950  0.000054\n",
      "2019-05-02 17:47:00  111.4945 -0.000004\n",
      "2019-05-02 17:48:00  111.4950  0.000004\n",
      "2019-05-02 17:49:00  111.4925 -0.000022\n",
      "2019-05-02 17:50:00  111.4940  0.000013\n",
      "2019-05-02 17:51:00  111.4960  0.000018\n",
      "2019-05-02 17:52:00  111.4960  0.000000\n",
      "2019-05-02 17:53:00  111.4950 -0.000009\n",
      "2019-05-02 17:54:00  111.4875 -0.000067\n",
      "2019-05-02 17:55:00  111.4910  0.000031\n",
      "2019-05-02 17:56:00  111.4945  0.000031\n",
      "2019-05-02 17:57:00  111.4930 -0.000013\n",
      "2019-05-02 17:58:00  111.4900 -0.000027\n",
      "2019-05-02 17:59:00  111.4835 -0.000058\n",
      "2019-05-02 18:00:00  111.4685 -0.000135\n",
      "2019-05-02 18:01:00  111.4690  0.000004\n",
      "2019-05-02 18:02:00  111.4685 -0.000004\n",
      "2019-05-02 18:03:00  111.4760  0.000067\n",
      "2019-05-02 18:04:00  111.4830  0.000063\n",
      "2019-05-02 18:05:00  111.4775 -0.000049\n",
      "2019-05-02 18:06:00  111.4815  0.000036\n",
      "2019-05-02 18:07:00  111.4900  0.000076\n",
      "2019-05-02 18:08:00  111.4840 -0.000054\n",
      "2019-05-02 18:09:00  111.4835 -0.000004\n",
      "2019-05-02 18:10:00  111.4865  0.000027\n",
      "2019-05-02 18:11:00  111.4845 -0.000018\n",
      "...                       ...       ...\n",
      "2019-05-03 01:33:00  111.4285  0.000108\n",
      "2019-05-03 01:34:00  111.4220 -0.000058\n",
      "2019-05-03 01:35:00  111.4220  0.000000\n",
      "2019-05-03 01:36:00  111.4275  0.000049\n",
      "2019-05-03 01:37:00  111.4275  0.000000\n",
      "2019-05-03 01:38:00  111.4340  0.000058\n",
      "2019-05-03 01:39:00  111.4335 -0.000004\n",
      "2019-05-03 01:40:00  111.4335  0.000000\n",
      "2019-05-03 01:41:00  111.4335  0.000000\n",
      "2019-05-03 01:42:00  111.4290 -0.000040\n",
      "2019-05-03 01:43:00  111.4275 -0.000013\n",
      "2019-05-03 01:44:00  111.4300  0.000022\n",
      "2019-05-03 01:45:00  111.4285 -0.000013\n",
      "2019-05-03 01:46:00  111.4330  0.000040\n",
      "2019-05-03 01:47:00  111.4335  0.000004\n",
      "2019-05-03 01:48:00  111.4360  0.000022\n",
      "2019-05-03 01:49:00  111.4335 -0.000022\n",
      "2019-05-03 01:50:00  111.4345  0.000009\n",
      "2019-05-03 01:51:00  111.4345  0.000000\n",
      "2019-05-03 01:52:00  111.4255 -0.000081\n",
      "2019-05-03 01:53:00  111.4275  0.000018\n",
      "2019-05-03 01:54:00  111.4270 -0.000004\n",
      "2019-05-03 01:55:00  111.4225 -0.000040\n",
      "2019-05-03 01:56:00  111.4285  0.000054\n",
      "2019-05-03 01:57:00  111.4335  0.000045\n",
      "2019-05-03 01:58:00  111.4295 -0.000036\n",
      "2019-05-03 01:59:00  111.4330  0.000031\n",
      "2019-05-03 02:00:00  111.4330  0.000000\n",
      "2019-05-03 02:01:00  111.4330  0.000000\n",
      "2019-05-03 02:02:00  111.4275 -0.000049\n",
      "\n",
      "[500 rows x 2 columns]\n",
      "col =  lag_1\n",
      "col =  lag_2\n",
      "col =  lag_3\n"
     ]
    },
    {
     "data": {
      "text/html": [
       "<div>\n",
       "<style scoped>\n",
       "    .dataframe tbody tr th:only-of-type {\n",
       "        vertical-align: middle;\n",
       "    }\n",
       "\n",
       "    .dataframe tbody tr th {\n",
       "        vertical-align: top;\n",
       "    }\n",
       "\n",
       "    .dataframe thead th {\n",
       "        text-align: right;\n",
       "    }\n",
       "</style>\n",
       "<table border=\"1\" class=\"dataframe\">\n",
       "  <thead>\n",
       "    <tr style=\"text-align: right;\">\n",
       "      <th></th>\n",
       "      <th>Mid</th>\n",
       "      <th>Returns</th>\n",
       "      <th>lag_1</th>\n",
       "      <th>lag_2</th>\n",
       "      <th>lag_3</th>\n",
       "    </tr>\n",
       "    <tr>\n",
       "      <th>date</th>\n",
       "      <th></th>\n",
       "      <th></th>\n",
       "      <th></th>\n",
       "      <th></th>\n",
       "      <th></th>\n",
       "    </tr>\n",
       "  </thead>\n",
       "  <tbody>\n",
       "    <tr>\n",
       "      <th>2019-05-03 01:58:00</th>\n",
       "      <td>111.4295</td>\n",
       "      <td>-0.000036</td>\n",
       "      <td>1.0</td>\n",
       "      <td>1.0</td>\n",
       "      <td>-1.0</td>\n",
       "    </tr>\n",
       "    <tr>\n",
       "      <th>2019-05-03 01:59:00</th>\n",
       "      <td>111.4330</td>\n",
       "      <td>0.000031</td>\n",
       "      <td>-1.0</td>\n",
       "      <td>1.0</td>\n",
       "      <td>1.0</td>\n",
       "    </tr>\n",
       "    <tr>\n",
       "      <th>2019-05-03 02:00:00</th>\n",
       "      <td>111.4330</td>\n",
       "      <td>0.000000</td>\n",
       "      <td>1.0</td>\n",
       "      <td>-1.0</td>\n",
       "      <td>1.0</td>\n",
       "    </tr>\n",
       "    <tr>\n",
       "      <th>2019-05-03 02:01:00</th>\n",
       "      <td>111.4330</td>\n",
       "      <td>0.000000</td>\n",
       "      <td>0.0</td>\n",
       "      <td>1.0</td>\n",
       "      <td>-1.0</td>\n",
       "    </tr>\n",
       "    <tr>\n",
       "      <th>2019-05-03 02:02:00</th>\n",
       "      <td>111.4275</td>\n",
       "      <td>-0.000049</td>\n",
       "      <td>0.0</td>\n",
       "      <td>0.0</td>\n",
       "      <td>1.0</td>\n",
       "    </tr>\n",
       "  </tbody>\n",
       "</table>\n",
       "</div>"
      ],
      "text/plain": [
       "                          Mid   Returns  lag_1  lag_2  lag_3\n",
       "date                                                        \n",
       "2019-05-03 01:58:00  111.4295 -0.000036    1.0    1.0   -1.0\n",
       "2019-05-03 01:59:00  111.4330  0.000031   -1.0    1.0    1.0\n",
       "2019-05-03 02:00:00  111.4330  0.000000    1.0   -1.0    1.0\n",
       "2019-05-03 02:01:00  111.4330  0.000000    0.0    1.0   -1.0\n",
       "2019-05-03 02:02:00  111.4275 -0.000049    0.0    0.0    1.0"
      ]
     },
     "execution_count": 10,
     "metadata": {},
     "output_type": "execute_result"
    }
   ],
   "source": [
    "data, cols = generate_features(data, lags)\n",
    "data.tail()"
   ]
  },
  {
   "cell_type": "code",
   "execution_count": 11,
   "metadata": {},
   "outputs": [
    {
     "data": {
      "text/plain": [
       "SVC(C=100, cache_size=200, class_weight=None, coef0=0.0,\n",
       "  decision_function_shape='ovr', degree=3, gamma='auto', kernel='rbf',\n",
       "  max_iter=-1, probability=True, random_state=None, shrinking=True,\n",
       "  tol=0.001, verbose=False)"
      ]
     },
     "execution_count": 11,
     "metadata": {},
     "output_type": "execute_result"
    }
   ],
   "source": [
    "model.fit(data[cols], np.sign(data['Returns']))"
   ]
  },
  {
   "cell_type": "code",
   "execution_count": 12,
   "metadata": {},
   "outputs": [],
   "source": [
    "ticks=0\n",
    "position=0\n",
    "tick_data=pd.DataFrame()\n",
    "tick_resam=pd.DataFrame()"
   ]
  },
  {
   "cell_type": "code",
   "execution_count": 13,
   "metadata": {},
   "outputs": [],
   "source": [
    "def automated_trading(data,df):\n",
    "    global lags,model,ticks\n",
    "    global tick_data,tick_resam,to_show\n",
    "    global position\n",
    "    ticks += 1\n",
    "    t =datetime.now()\n",
    "    if ticks % 5==0 :\n",
    "        print('%3d|%s| %7.5f | %7.5f' % (ticks, str(t.time()),\n",
    "                                         data['Rates'][0],data['Rates'][1]))\n",
    "    \n",
    "    #collecting tick data    \n",
    "    tick_data=tick_data.append(pd.DataFrame(\n",
    "        {'Bid':data['Rates'][0],'Ask':data['Rates'][1],\n",
    "         'High':data['Rates'][2],'Low':data['Rates'][3]},\n",
    "         index=[t]))  \n",
    "    \n",
    "    #resampling tick data\n",
    "    tick_resam=tick_data[['Bid','Ask']].resample('60s',label='right').last().ffill()\n",
    "    tick_resam['Mid'] = tick_resam.mean(axis=1)\n",
    "    time.sleep(1)\n",
    "    if len(tick_resam) > lags + 2:\n",
    "        #generate a signal\n",
    "        tick_resam, cols = generate_features(tick_resam, lags)\n",
    "        tick_resam['Prediction'] = model.predict(tick_resam[cols])\n",
    "        #entering a long position \n",
    "        if tick_resam['Prediction'].iloc[-2] >= 0 and position == 0:\n",
    "            print('going long (for the first time)')\n",
    "            position = 1\n",
    "            order = con.create_market_buy_order('USD/JPY', 25)\n",
    "            trade = True \n",
    "        elif tick_resam['Prediction'].iloc[-2] >= 0 and position == -1:\n",
    "            print('going long')\n",
    "            position = 1\n",
    "            order = con.create_market_buy_order('USD/JPY', 50)\n",
    "            trade = True\n",
    "        #entering a short positon \n",
    "        elif tick_resam['Prediction'].iloc[-2] <= 0 and position == 0:\n",
    "            print('going short (for the first time)')\n",
    "            position = -1\n",
    "            order = con.create_market_buy_order('USD/JPY', 25)\n",
    "            trade = True\n",
    "        elif tick_resam['Prediction'].iloc[-2] <= 0 and position == 1:\n",
    "            print('going short')\n",
    "            position = -1\n",
    "            order = con.create_market_buy_order('USD/JPY', 50)\n",
    "            trade = True"
   ]
  },
  {
   "cell_type": "code",
   "execution_count": 14,
   "metadata": {},
   "outputs": [
    {
     "name": "stdout",
     "output_type": "stream",
     "text": [
      "  5|14:04:52.937363| 111.42200 | 111.43400\n",
      " 10|14:05:06.253697| 111.42300 | 111.43500\n",
      " 15|14:06:24.588550| 111.42300 | 111.43500\n",
      " 20|14:06:43.634723| 111.42100 | 111.43400\n",
      " 25|14:07:36.165059| 111.41500 | 111.42900\n"
     ]
    }
   ],
   "source": [
    "con.subscribe_market_data('USD/JPY', (automated_trading,))"
   ]
  },
  {
   "cell_type": "code",
   "execution_count": 15,
   "metadata": {},
   "outputs": [
    {
     "name": "stdout",
     "output_type": "stream",
     "text": [
      "                         Bid      Ask       Mid       Returns\n",
      "2019-05-03 14:05:00  111.423  111.434  111.4285           NaN\n",
      "2019-05-03 14:06:00  111.422  111.435  111.4285  2.220446e-16\n",
      "2019-05-03 14:07:00  111.420  111.434  111.4270 -1.346164e-05\n",
      "2019-05-03 14:08:00  111.415  111.428  111.4215 -4.936089e-05\n",
      "2019-05-03 14:09:00  111.415  111.428  111.4215  0.000000e+00\n",
      "2019-05-03 14:10:00  111.415  111.428  111.4215  0.000000e+00\n",
      "2019-05-03 14:11:00  111.415  111.428  111.4215  0.000000e+00\n",
      "2019-05-03 14:12:00  111.415  111.428  111.4215  0.000000e+00\n",
      "2019-05-03 14:13:00  111.415  111.428  111.4215  0.000000e+00\n",
      "2019-05-03 14:14:00  111.415  111.428  111.4215  0.000000e+00\n",
      "2019-05-03 14:15:00  111.415  111.428  111.4215  0.000000e+00\n",
      "2019-05-03 14:16:00  111.415  111.428  111.4215  0.000000e+00\n",
      "2019-05-03 14:17:00  111.415  111.428  111.4215  0.000000e+00\n",
      "2019-05-03 14:18:00  111.415  111.428  111.4215  0.000000e+00\n",
      "2019-05-03 14:19:00  111.415  111.428  111.4215  0.000000e+00\n",
      "2019-05-03 14:20:00  111.409  111.422  111.4155 -5.385102e-05\n",
      "col =  lag_1\n",
      "col =  lag_2\n",
      "col =  lag_3\n",
      "going long (for the first time)\n"
     ]
    }
   ],
   "source": [
    "con.unsubscribe_market_data('USD/JPY')"
   ]
  },
  {
   "cell_type": "code",
   "execution_count": null,
   "metadata": {},
   "outputs": [],
   "source": []
  }
 ],
 "metadata": {
  "kernelspec": {
   "display_name": "Python 3",
   "language": "python",
   "name": "python3"
  },
  "language_info": {
   "codemirror_mode": {
    "name": "ipython",
    "version": 3
   },
   "file_extension": ".py",
   "mimetype": "text/x-python",
   "name": "python",
   "nbconvert_exporter": "python",
   "pygments_lexer": "ipython3",
   "version": "3.6.3"
  }
 },
 "nbformat": 4,
 "nbformat_minor": 2
}
